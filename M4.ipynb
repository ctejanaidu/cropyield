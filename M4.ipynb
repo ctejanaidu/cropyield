{
 "cells": [
  {
   "cell_type": "markdown",
   "metadata": {},
   "source": [
    "# Performance measurements of ML algorithms (Supervised)"
   ]
  },
  {
   "cell_type": "code",
   "execution_count": 1,
   "metadata": {},
   "outputs": [],
   "source": [
    "#import library packages\n",
    "import pandas as p\n",
    "import numpy as n"
   ]
  },
  {
   "cell_type": "code",
   "execution_count": 2,
   "metadata": {},
   "outputs": [],
   "source": [
    "import warnings\n",
    "warnings.filterwarnings(\"ignore\") "
   ]
  },
  {
   "cell_type": "code",
   "execution_count": 3,
   "metadata": {},
   "outputs": [],
   "source": [
    "#Load given dataset\n",
    "data = p.read_csv('data.csv')\n",
    "df=data.dropna()"
   ]
  },
  {
   "cell_type": "code",
   "execution_count": 4,
   "metadata": {},
   "outputs": [
    {
     "data": {
      "text/plain": [
       "Index(['Unnamed: 0', 'ï»¿State_Name', 'Crop_Year', 'Area', 'Yield',\n",
       "       'Temperature', 'Precipitaion', 'Humidity', 'Soil_type_chalky',\n",
       "       'Soil_type_clay', 'Soil_type_loamy', 'Soil_type_peaty',\n",
       "       'Soil_type_sandy', 'Soil_type_silt', 'Soil_type_silty',\n",
       "       'District_AHMEDNAGAR', 'District_AKOLA', 'District_AMRAVATI',\n",
       "       'District_AURANGABAD', 'District_BEED', 'District_BHANDARA',\n",
       "       'District_BULDHANA', 'District_CHANDRAPUR', 'District_DHULE',\n",
       "       'District_GADCHIROLI', 'District_GONDIA', 'District_HINGOLI',\n",
       "       'District_JALGAON', 'District_JALNA', 'District_KOLHAPUR',\n",
       "       'District_LATUR', 'District_NAGPUR', 'District_NANDED',\n",
       "       'District_NANDURBAR', 'District_NASHIK', 'District_OSMANABAD',\n",
       "       'District_PARBHANI', 'District_PUNE', 'District_SANGLI',\n",
       "       'District_SATARA', 'District_SOLAPUR', 'District_THANE',\n",
       "       'District_WARDHA', 'District_WASHIM', 'District_YAVATMAL', 'Crop_Bajra',\n",
       "       'Crop_Jowar', 'Crop_Wheat', 'Season_Kharif', 'Season_Rabi',\n",
       "       'Season_Rabi.1'],\n",
       "      dtype='object')"
      ]
     },
     "execution_count": 4,
     "metadata": {},
     "output_type": "execute_result"
    }
   ],
   "source": [
    "df.columns"
   ]
  },
  {
   "cell_type": "code",
   "execution_count": 5,
   "metadata": {},
   "outputs": [],
   "source": [
    "df=data.dropna()"
   ]
  },
  {
   "cell_type": "code",
   "execution_count": null,
   "metadata": {},
   "outputs": [],
   "source": []
  },
  {
   "cell_type": "code",
   "execution_count": 6,
   "metadata": {},
   "outputs": [
    {
     "data": {
      "text/plain": [
       "Index(['Unnamed: 0', 'ï»¿State_Name', 'Crop_Year', 'Area', 'Yield',\n",
       "       'Temperature', 'Precipitaion', 'Humidity', 'Soil_type_chalky',\n",
       "       'Soil_type_clay', 'Soil_type_loamy', 'Soil_type_peaty',\n",
       "       'Soil_type_sandy', 'Soil_type_silt', 'Soil_type_silty',\n",
       "       'District_AHMEDNAGAR', 'District_AKOLA', 'District_AMRAVATI',\n",
       "       'District_AURANGABAD', 'District_BEED', 'District_BHANDARA',\n",
       "       'District_BULDHANA', 'District_CHANDRAPUR', 'District_DHULE',\n",
       "       'District_GADCHIROLI', 'District_GONDIA', 'District_HINGOLI',\n",
       "       'District_JALGAON', 'District_JALNA', 'District_KOLHAPUR',\n",
       "       'District_LATUR', 'District_NAGPUR', 'District_NANDED',\n",
       "       'District_NANDURBAR', 'District_NASHIK', 'District_OSMANABAD',\n",
       "       'District_PARBHANI', 'District_PUNE', 'District_SANGLI',\n",
       "       'District_SATARA', 'District_SOLAPUR', 'District_THANE',\n",
       "       'District_WARDHA', 'District_WASHIM', 'District_YAVATMAL', 'Crop_Bajra',\n",
       "       'Crop_Jowar', 'Crop_Wheat', 'Season_Kharif', 'Season_Rabi',\n",
       "       'Season_Rabi.1'],\n",
       "      dtype='object')"
      ]
     },
     "execution_count": 6,
     "metadata": {},
     "output_type": "execute_result"
    }
   ],
   "source": [
    "df.columns"
   ]
  },
  {
   "cell_type": "code",
   "execution_count": 7,
   "metadata": {},
   "outputs": [],
   "source": [
    "from sklearn.preprocessing import LabelEncoder\n",
    "var_mod = ['Crop_Year', 'Area', 'Yield',\n",
    "       'Temperature', 'Precipitaion', 'Humidity', 'Soil_type_chalky',\n",
    "       'Soil_type_clay', 'Soil_type_loamy', 'Soil_type_peaty',\n",
    "       'Soil_type_sandy', 'Soil_type_silt', 'Soil_type_silty',\n",
    "       'District_AHMEDNAGAR', 'District_AKOLA', 'District_AMRAVATI',\n",
    "       'District_AURANGABAD', 'District_BEED', 'District_BHANDARA',\n",
    "       'District_BULDHANA', 'District_CHANDRAPUR', 'District_DHULE',\n",
    "       'District_GADCHIROLI', 'District_GONDIA', 'District_HINGOLI',\n",
    "       'District_JALGAON', 'District_JALNA', 'District_KOLHAPUR',\n",
    "       'District_LATUR', 'District_NAGPUR', 'District_NANDED',\n",
    "       'District_NANDURBAR', 'District_NASHIK', 'District_OSMANABAD',\n",
    "       'District_PARBHANI', 'District_PUNE', 'District_SANGLI',\n",
    "       'District_SATARA', 'District_SOLAPUR', 'District_THANE',\n",
    "       'District_WARDHA', 'District_WASHIM', 'District_YAVATMAL', 'Crop_Bajra',\n",
    "       'Crop_Jowar', 'Crop_Wheat', 'Season_Kharif', 'Season_Rabi',\n",
    "       'Season_Rabi.1']\n",
    "le = LabelEncoder()\n",
    "for i in var_mod:\n",
    "    df[i] = le.fit_transform(df[i]).astype(int)"
   ]
  },
  {
   "cell_type": "code",
   "execution_count": 9,
   "metadata": {},
   "outputs": [],
   "source": [
    "#According to the cross-validated MCC scores, the random forest is the best-performing model, so now let's evaluate its performance on the test set.\n",
    "from sklearn.metrics import mean_absolute_error,mean_squared_error,r2_score"
   ]
  },
  {
   "cell_type": "code",
   "execution_count": 10,
   "metadata": {},
   "outputs": [],
   "source": [
    "X = df.drop(labels='Yield', axis=1)\n",
    "#Response variable\n",
    "y = df.loc[:,'Yield']    "
   ]
  },
  {
   "cell_type": "code",
   "execution_count": 11,
   "metadata": {},
   "outputs": [],
   "source": [
    "#We'll use a test size of 30%. We also stratify the split on the response variable, which is very important to do because there are so few fraudulent transactions.\n",
    "from sklearn.model_selection import train_test_split\n",
    "X_train, X_test, y_train, y_test = train_test_split(X, y, test_size=0.5)"
   ]
  },
  {
   "cell_type": "markdown",
   "metadata": {},
   "source": []
  },
  {
   "cell_type": "code",
   "execution_count": 14,
   "metadata": {},
   "outputs": [
    {
     "name": "stdout",
     "output_type": "stream",
     "text": [
      "\n",
      "\n",
      "mean_absolute_error :  169.27033737332255\n",
      "\n",
      "mean_squared_error :  42873.85846322616\n",
      "\n",
      "R_squared_ :  0.20007149870224417\n"
     ]
    }
   ],
   "source": [
    "from sklearn.svm import SVR\n",
    "svr = SVR()\n",
    "\n",
    "svr.fit(X_train,y_train)\n",
    "\n",
    "predictR = svr.predict(X_test)\n",
    "\n",
    "print(\"\")\n",
    "\n",
    "# regression coefficients\n",
    "# print('Coefficients: ', svr.coef_)\n",
    " \n",
    "# variance score: 1 means perfect prediction\n",
    "# print('Variance score: {}'.format(svr.score(X_test, y_test)))\n",
    "\n",
    "from sklearn.metrics import mean_absolute_error,mean_squared_error,r2_score\n",
    "print(\"\")\n",
    "mbe=mean_absolute_error(y_test,predictR)\n",
    "print('mean_absolute_error : ',mbe)\n",
    "print(\"\")\n",
    "mse=mean_squared_error(y_test,predictR)\n",
    "print('mean_squared_error : ',mse)\n",
    "\n",
    "print(\"\")\n",
    "r2=r2_score(y_test,predictR)\n",
    "print('R_squared_ : ',r2)\n"
   ]
  },
  {
   "cell_type": "code",
   "execution_count": 15,
   "metadata": {},
   "outputs": [
    {
     "name": "stdout",
     "output_type": "stream",
     "text": [
      "\n",
      "Variance score: 0.921720087611392\n",
      "\n",
      "mean_absolute_error :  44.880203645498\n",
      "\n",
      "mean_squared_error :  4195.577328246322\n",
      "\n",
      "R_squared_ :  0.921720087611392\n"
     ]
    }
   ],
   "source": [
    "from sklearn.linear_model import Lasso\n",
    "clf =Lasso(alpha=0.1)\n",
    "\n",
    "\n",
    "\n",
    "clf.fit(X_train,y_train)\n",
    "\n",
    "predictR = clf.predict(X_test)\n",
    "print(\"\")\n",
    "\n",
    "# regression coefficients\n",
    "# print('Coefficients: ', regr.oob_score_)\n",
    " \n",
    "# variance score: 1 means perfect prediction\n",
    "print('Variance score: {}'.format(clf.score(X_test, y_test)))\n",
    "\n",
    "from sklearn.metrics import mean_absolute_error,mean_squared_error,r2_score\n",
    "print(\"\")\n",
    "mbe=mean_absolute_error(y_test,predictR)\n",
    "print('mean_absolute_error : ',mbe)\n",
    "print(\"\")\n",
    "mse=mean_squared_error(y_test,predictR)\n",
    "print('mean_squared_error : ',mse)\n",
    "\n",
    "print(\"\")\n",
    "r2=r2_score(y_test,predictR)\n",
    "print('R_squared_ : ',r2)\n"
   ]
  },
  {
   "cell_type": "code",
   "execution_count": null,
   "metadata": {},
   "outputs": [],
   "source": []
  }
 ],
 "metadata": {
  "kernelspec": {
   "display_name": "Python 3",
   "language": "python",
   "name": "python3"
  },
  "language_info": {
   "codemirror_mode": {
    "name": "ipython",
    "version": 3
   },
   "file_extension": ".py",
   "mimetype": "text/x-python",
   "name": "python",
   "nbconvert_exporter": "python",
   "pygments_lexer": "ipython3",
   "version": "3.8.3"
  }
 },
 "nbformat": 4,
 "nbformat_minor": 2
}
